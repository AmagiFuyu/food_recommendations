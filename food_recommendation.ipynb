{
  "nbformat": 4,
  "nbformat_minor": 0,
  "metadata": {
    "colab": {
      "provenance": []
    },
    "kernelspec": {
      "name": "python3",
      "display_name": "Python 3"
    },
    "language_info": {
      "name": "python"
    }
  },
  "cells": [
    {
      "cell_type": "markdown",
      "source": [
        "# Sistem Rekomendasi Makanan Menggunakan Hybrid-Based Filtering\n",
        "# 1. Pendahuluan\n",
        "\n",
        "Notebook ini berisi implementasi sistem rekomendasi makanan menggunakan pendekatan Hybrid-Based Filtering. Pendekatan ini bekerja dengan cara merekomendasikan makanan yang memiliki kemiripan konten dengan makanan yang telah dibaca pengguna. Dataset diambil dari Kaggle: https://www.kaggle.com/datasets/schemersays/food-recommendation-system"
      ],
      "metadata": {
        "id": "M0oNNa3-Y1Rv"
      }
    },
    {
      "cell_type": "markdown",
      "source": [
        "# 2. Import Library\n",
        "Melakukan Import Library yang dibutuhkan untuk analisis data, visualisasi, pemrosesan teks, dan modeling"
      ],
      "metadata": {
        "id": "j74ArnLtacxY"
      }
    },
    {
      "cell_type": "code",
      "source": [
        "import pandas as pd\n",
        "import numpy as np\n",
        "from sklearn.feature_extraction.text import TfidfVectorizer\n",
        "from sklearn.metrics.pairwise import cosine_similarity\n",
        "from sklearn.decomposition import TruncatedSVD\n",
        "import nltk\n",
        "import re\n",
        "import matplotlib.pyplot as plt\n",
        "import seaborn as sns\n",
        "nltk.download('stopwords')\n",
        "from nltk.corpus import stopwords"
      ],
      "metadata": {
        "colab": {
          "base_uri": "https://localhost:8080/"
        },
        "id": "FlNwCD7BPlKP",
        "outputId": "4ca96a6e-e952-4ee7-e6e3-3fad339aa3a1"
      },
      "execution_count": 1,
      "outputs": [
        {
          "output_type": "stream",
          "name": "stderr",
          "text": [
            "[nltk_data] Downloading package stopwords to /root/nltk_data...\n",
            "[nltk_data]   Unzipping corpora/stopwords.zip.\n"
          ]
        }
      ]
    },
    {
      "cell_type": "markdown",
      "source": [
        "# 3. Data Preparation\n",
        "Tahapan ini berjuan untuk memuat dataset, menggabungkan kedua dataset, setelah itu mencari missing values, duplikat untuk dibersihkan"
      ],
      "metadata": {
        "id": "SXsP8RHQeov5"
      }
    },
    {
      "cell_type": "markdown",
      "source": [
        "## Load Dataset\n",
        "Memuat Dataset ke dataframes pandas `food_df` & `ratings_df`\n",
        "1. food_df terdiri dari:\n",
        "* Food_ID\n",
        "* Name\n",
        "* C_Type\n",
        "* Veg_Non\n",
        "* Describe\n",
        "\n",
        "2. rating_df terdiri dari:\n",
        "* User_ID\n",
        "* Food_ID\n",
        "* Rating\n",
        "\n"
      ],
      "metadata": {
        "id": "D4GAVscmDOTw"
      }
    },
    {
      "cell_type": "code",
      "source": [
        "# Load datasets\n",
        "ratings_df = pd.read_csv(\"ratings.csv\")\n",
        "food_df = pd.read_csv(\"food.csv\")"
      ],
      "metadata": {
        "id": "JrRLF7RXeExY"
      },
      "execution_count": 3,
      "outputs": []
    },
    {
      "cell_type": "markdown",
      "source": [
        "## Menangani Missing Values\n",
        "Mencari dan Menangani Missing Values pada dataframe `rating_df` & `food_df`"
      ],
      "metadata": {
        "id": "rW9ANRYTEJCB"
      }
    },
    {
      "cell_type": "code",
      "source": [
        "# ratings_df\n",
        "drop_ratings_df = ratings_df.dropna()\n",
        "print(drop_ratings_df.isna().sum())"
      ],
      "metadata": {
        "id": "5hP3jNy-ELcJ",
        "colab": {
          "base_uri": "https://localhost:8080/"
        },
        "outputId": "171f6370-65ce-4d97-cbf2-eead7ef1a6f2"
      },
      "execution_count": 4,
      "outputs": [
        {
          "output_type": "stream",
          "name": "stdout",
          "text": [
            "User_ID    0\n",
            "Food_ID    0\n",
            "Rating     0\n",
            "dtype: int64\n"
          ]
        }
      ]
    },
    {
      "cell_type": "code",
      "source": [
        "# food_df\n",
        "print(food_df.isna().sum())"
      ],
      "metadata": {
        "id": "tw8SrVu7EoSo",
        "colab": {
          "base_uri": "https://localhost:8080/"
        },
        "outputId": "fb379f8e-3bd2-4437-f80c-18cb92f29870"
      },
      "execution_count": 5,
      "outputs": [
        {
          "output_type": "stream",
          "name": "stdout",
          "text": [
            "Food_ID     0\n",
            "Name        0\n",
            "C_Type      0\n",
            "Veg_Non     0\n",
            "Describe    0\n",
            "dtype: int64\n"
          ]
        }
      ]
    },
    {
      "cell_type": "markdown",
      "source": [
        "## Menangani Duplikat\n",
        "Mencari apakah ada duplikasi dan Menghapus Duplikasi pada `food_df` & `ratings_df` bila ada"
      ],
      "metadata": {
        "id": "NzUUQJiwTirX"
      }
    },
    {
      "cell_type": "code",
      "source": [
        "# food_df\n",
        "print(food_df.duplicated().sum())"
      ],
      "metadata": {
        "colab": {
          "base_uri": "https://localhost:8080/"
        },
        "id": "r7snC405Tomo",
        "outputId": "c1dc84e8-1dc7-46d6-b845-4394d397379a"
      },
      "execution_count": 6,
      "outputs": [
        {
          "output_type": "stream",
          "name": "stdout",
          "text": [
            "0\n"
          ]
        }
      ]
    },
    {
      "cell_type": "code",
      "source": [
        "# ratings_df\n",
        "print(ratings_df.duplicated().sum())"
      ],
      "metadata": {
        "colab": {
          "base_uri": "https://localhost:8080/"
        },
        "id": "igOk0BmvT5gP",
        "outputId": "09671422-f036-4e16-e117-39b0bf5098b8"
      },
      "execution_count": 7,
      "outputs": [
        {
          "output_type": "stream",
          "name": "stdout",
          "text": [
            "0\n"
          ]
        }
      ]
    },
    {
      "cell_type": "markdown",
      "source": [
        "# 4. Explatory Data Analysis (EDA)\n",
        "Tahapan ini bertujuan untuk mencari statistik deskriptif makanan, mencari makanan terpopuler, mencari distribusi ratings"
      ],
      "metadata": {
        "id": "vvqbhOzyUJrh"
      }
    },
    {
      "cell_type": "markdown",
      "source": [
        "## Informasi Data\n",
        "Melihat Informasi Tipe Data pada Dataframe\n",
        "`food_df` & `ratings_df`"
      ],
      "metadata": {
        "id": "XgJieGY3Uzw_"
      }
    },
    {
      "cell_type": "code",
      "source": [
        "# food_df\n",
        "print(\"\\nInfo dataset makanan:\")\n",
        "print(food_df.info())\n",
        "\n",
        "#ratings_df\n",
        "print(\"\\nInfo dataset ratings:\")\n",
        "print(ratings_df.info())"
      ],
      "metadata": {
        "colab": {
          "base_uri": "https://localhost:8080/"
        },
        "id": "EvbL3hBdUQtP",
        "outputId": "610bd907-59cf-40a6-ad4b-0166e92d3aff"
      },
      "execution_count": 8,
      "outputs": [
        {
          "output_type": "stream",
          "name": "stdout",
          "text": [
            "\n",
            "Info dataset makanan:\n",
            "<class 'pandas.core.frame.DataFrame'>\n",
            "RangeIndex: 400 entries, 0 to 399\n",
            "Data columns (total 5 columns):\n",
            " #   Column    Non-Null Count  Dtype \n",
            "---  ------    --------------  ----- \n",
            " 0   Food_ID   400 non-null    int64 \n",
            " 1   Name      400 non-null    object\n",
            " 2   C_Type    400 non-null    object\n",
            " 3   Veg_Non   400 non-null    object\n",
            " 4   Describe  400 non-null    object\n",
            "dtypes: int64(1), object(4)\n",
            "memory usage: 15.8+ KB\n",
            "None\n",
            "\n",
            "Info dataset ratings:\n",
            "<class 'pandas.core.frame.DataFrame'>\n",
            "RangeIndex: 512 entries, 0 to 511\n",
            "Data columns (total 3 columns):\n",
            " #   Column   Non-Null Count  Dtype  \n",
            "---  ------   --------------  -----  \n",
            " 0   User_ID  511 non-null    float64\n",
            " 1   Food_ID  511 non-null    float64\n",
            " 2   Rating   511 non-null    float64\n",
            "dtypes: float64(3)\n",
            "memory usage: 12.1 KB\n",
            "None\n"
          ]
        }
      ]
    },
    {
      "cell_type": "markdown",
      "source": [
        "## Statistik Deskriptif"
      ],
      "metadata": {
        "id": "i3u-YSUVOOPI"
      }
    },
    {
      "cell_type": "code",
      "source": [
        "# Statistik Deskriptif food_df\n",
        "print(\"\\nStatistik deskriptif:\")\n",
        "print(food_df.describe(include='all'))\n",
        "\n",
        "# Statistik Deskriptif ratings_df\n",
        "print(\"\\nStatistik deskriptif:\")\n",
        "print(ratings_df.describe(include='all'))"
      ],
      "metadata": {
        "colab": {
          "base_uri": "https://localhost:8080/"
        },
        "id": "D9-eUsnZOdkf",
        "outputId": "0afbddc7-568d-4764-cd8b-687c8ef2b66e"
      },
      "execution_count": 28,
      "outputs": [
        {
          "output_type": "stream",
          "name": "stdout",
          "text": [
            "\n",
            "Statistik deskriptif:\n",
            "           Food_ID                   Name  C_Type Veg_Non    Describe  \\\n",
            "count   400.000000                    400     400     400         400   \n",
            "unique         NaN                    396      15       2         396   \n",
            "top            NaN  lemon poppy seed cake  indian     veg  riety rice   \n",
            "freq           NaN                      2      88     238           3   \n",
            "mean    200.500000                    NaN     NaN     NaN         NaN   \n",
            "std     115.614301                    NaN     NaN     NaN         NaN   \n",
            "min       1.000000                    NaN     NaN     NaN         NaN   \n",
            "25%     100.750000                    NaN     NaN     NaN         NaN   \n",
            "50%     200.500000                    NaN     NaN     NaN         NaN   \n",
            "75%     300.250000                    NaN     NaN     NaN         NaN   \n",
            "max     400.000000                    NaN     NaN     NaN         NaN   \n",
            "\n",
            "                                                 combined  \n",
            "count                                                 400  \n",
            "unique                                                399  \n",
            "top     double chocolate easter cookies dessert veg bu...  \n",
            "freq                                                    2  \n",
            "mean                                                  NaN  \n",
            "std                                                   NaN  \n",
            "min                                                   NaN  \n",
            "25%                                                   NaN  \n",
            "50%                                                   NaN  \n",
            "75%                                                   NaN  \n",
            "max                                                   NaN  \n",
            "\n",
            "Statistik deskriptif:\n",
            "          User_ID     Food_ID      Rating\n",
            "count  511.000000  511.000000  511.000000\n",
            "mean    49.068493  125.311155    5.438356\n",
            "std     28.739213   91.292629    2.866236\n",
            "min      1.000000    1.000000    1.000000\n",
            "25%     25.000000   45.500000    3.000000\n",
            "50%     49.000000  111.000000    5.000000\n",
            "75%     72.000000  204.000000    8.000000\n",
            "max    100.000000  309.000000   10.000000\n"
          ]
        }
      ]
    },
    {
      "cell_type": "markdown",
      "source": [
        "## Visualiasi Makanan Populer\n",
        "Melakukan Visualisasi Untuk Mencari Makanan Populer\n",
        "\n",
        "Berdasarkan Grafik, Makanan Paling Populer Adalah :\n",
        "\n",
        "1. Indian.\n",
        "\n",
        "2. Healthy Food.\n",
        "\n",
        "3. Dessert."
      ],
      "metadata": {
        "id": "tkD5BnELWbiv"
      }
    },
    {
      "cell_type": "code",
      "source": [
        "plt.figure(figsize=(10, 5))\n",
        "food_df['C_Type'].value_counts().head(10).plot(kind='bar')\n",
        "plt.title(\"10 Jenis Masakan Terpopuler\")\n",
        "plt.xlabel(\"Cuisine\")\n",
        "plt.ylabel(\"Jumlah\")\n",
        "plt.xticks(rotation=0)\n",
        "plt.show()"
      ],
      "metadata": {
        "id": "kQqaDWhSWcu2",
        "colab": {
          "base_uri": "https://localhost:8080/",
          "height": 391
        },
        "outputId": "03c1d534-6588-4dcd-934c-7c30ba91d06a"
      },
      "execution_count": 9,
      "outputs": [
        {
          "output_type": "display_data",
          "data": {
            "text/plain": [
              "<Figure size 1000x500 with 1 Axes>"
            ],
            "image/png": "[encoded data removed]"
          },
          "metadata": {}
        }
      ]
    },
    {
      "cell_type": "markdown",
      "source": [
        "## Visualisasi distribusi rating\n",
        "Visualisasi Ini Berguna Untuk Mengetahui Distribusi Rating\n",
        "\n",
        "Hasil Visualisasi Menunjukkan Bahwa:\n",
        "1. Rating 5 Paling Banyak, pengguna memberikan rating yang tinggi untuk makanan\n",
        "\n",
        "2.  hanya sedikit makanan yang mendapatkan rating 1 & 2.\n",
        "\n",
        "3. Distribusi Rating Condong ke kanan"
      ],
      "metadata": {
        "id": "PdCFe6msnPKr"
      }
    },
    {
      "cell_type": "code",
      "source": [
        "plt.figure(figsize=(10, 5))\n",
        "sns.countplot(x='Rating', data=ratings_df)\n",
        "plt.title(\"Distribusi Rating\")\n",
        "plt.xlabel(\"Rating\")\n",
        "plt.ylabel(\"Jumlah\")\n",
        "plt.show()"
      ],
      "metadata": {
        "colab": {
          "base_uri": "https://localhost:8080/",
          "height": 391
        },
        "id": "Ax3Hlt96nZeb",
        "outputId": "83800a1d-836b-43bc-8fa5-49a16fdb6011"
      },
      "execution_count": 29,
      "outputs": [
        {
          "output_type": "display_data",
          "data": {
            "text/plain": [
              "<Figure size 1000x500 with 1 Axes>"
            ],
            "image/png": "[encoded data removed]"
          },
          "metadata": {}
        }
      ]
    },
    {
      "cell_type": "markdown",
      "source": [
        "# 4. Preprocessing Data\n",
        "Melakukan pembersihan dan normalisasi teks pada kolom deskripsi makanan. Kolom tersebut kemudian digabung untuk membuat representasi fitur yang akan digunakan dalam content-based filtering."
      ],
      "metadata": {
        "id": "j938mYmDuW3q"
      }
    },
    {
      "cell_type": "code",
      "source": [
        "# Preprocessing teks: menghapus karakter non-alfabet, huruf kecil, dan stopwords\n",
        "stop_words = set(stopwords.words('english'))\n",
        "\n",
        "def clean_text(text):\n",
        "    text = str(text).lower()\n",
        "    text = re.sub(r\"[^a-zA-Z0-9 ]\", \"\", text)\n",
        "    text = \" \".join([word for word in text.split() if word not in stop_words])\n",
        "    return text\n",
        "\n",
        "# Membersihkan kolom teks dan menggabungkan untuk ekstraksi fitur\n",
        "for col in ['Name', 'C_Type', 'Veg_Non', 'Describe']:\n",
        "    # Memastikan kolom ada di food_df sebelum membersihkan\n",
        "    if col in food_df.columns:\n",
        "        food_df[col] = food_df[col].fillna(\"\").apply(clean_text)\n",
        "    else:\n",
        "        print(f\"Warning: Column '{col}' not found in food_df.\")\n",
        "\n",
        "\n",
        "# Kolom gabungan yang akan digunakan untuk content-based filtering\n",
        "food_df['combined'] = food_df['Name'] + \" \" + food_df['C_Type'] + \" \" + food_df['Veg_Non'] + \" \" + food_df['Describe']"
      ],
      "metadata": {
        "id": "-B7Yl-hiuajS"
      },
      "execution_count": 11,
      "outputs": []
    },
    {
      "cell_type": "markdown",
      "source": [
        "# 5. Ekstraksi Fitur\n",
        "TF-IDF digunakan untuk mengekstraksi fitur dari teks gabungan makanan, dan\n",
        "cosine similarity digunakan untuk mengukur kemiripan antar makanan berdasarkan konten."
      ],
      "metadata": {
        "id": "649VKSCPxIVy"
      }
    },
    {
      "cell_type": "code",
      "source": [
        "tfidf = TfidfVectorizer(max_features=5000)\n",
        "tfidf_matrix = tfidf.fit_transform(food_df['combined'])\n",
        "\n",
        "similarity = cosine_similarity(tfidf_matrix)"
      ],
      "metadata": {
        "id": "VlL1rp76xR2S"
      },
      "execution_count": 12,
      "outputs": []
    },
    {
      "cell_type": "markdown",
      "source": [
        "# 6. Model Building\n",
        "Melakukan pendekatan collaborative filtering menggunakan teknik matrix factorization melalui SVD, untuk memperkirakan preferensi pengguna terhadap makanan yang belum dirating.\n"
      ],
      "metadata": {
        "id": "7I9Hl3RnyPLq"
      }
    },
    {
      "cell_type": "code",
      "source": [
        "# Mengubah data rating ke bentuk matrix (pivot)\n",
        "user_item_matrix = ratings_df.pivot_table(index='User_ID', columns='Food_ID', values='Rating').fillna(0)\n",
        "\n",
        "# Reduksi dimensi dengan TruncatedSVD untuk simulasi collaborative filtering\n",
        "svd = TruncatedSVD(n_components=20, random_state=42)\n",
        "user_factors = svd.fit_transform(user_item_matrix)\n",
        "item_factors = svd.components_.T\n",
        "\n",
        "# Prediksi matrix rating (estimasi rating pengguna terhadap item)\n",
        "predicted_ratings = np.dot(user_factors, item_factors.T)"
      ],
      "metadata": {
        "id": "mbaoxRyqxzGC"
      },
      "execution_count": 13,
      "outputs": []
    },
    {
      "cell_type": "markdown",
      "source": [
        "# 7. Fungsi Rekomendasi Hybrid\n",
        "Fungsi ini menggabungkan dua metode rekomendasi:\n",
        "\n",
        "content-based dan collaborative filtering, untuk menghasilkan rekomendasi makanan terbaik."
      ],
      "metadata": {
        "id": "VM8l9JXszOMC"
      }
    },
    {
      "cell_type": "code",
      "source": [
        "def hybrid_recommendation(user_id, food_name, top_n=5, alpha=0.5):\n",
        "\n",
        "    idx = food_df[food_df['Name'].str.lower() == food_name.lower()].index\n",
        "    if len(idx) == 0:\n",
        "        return f\"Makanan '{food_name}' tidak ditemukan.\"\n",
        "    idx = idx[0]\n",
        "\n",
        "    # Ambil 50 item paling mirip secara konten\n",
        "    sim_scores = list(enumerate(similarity[idx]))\n",
        "    sim_scores = sorted(sim_scores, key=lambda x: x[1], reverse=True)\n",
        "    top_similar = [i[0] for i in sim_scores[1:50]]\n",
        "\n",
        "    food_scores = []\n",
        "    for i in top_similar:\n",
        "        food_id = food_df.iloc[i]['Food_ID']\n",
        "        if user_id in user_item_matrix.index and food_id in user_item_matrix.columns:\n",
        "            est_rating = predicted_ratings[user_item_matrix.index.get_loc(user_id)][user_item_matrix.columns.get_loc(food_id)]\n",
        "        else:\n",
        "            est_rating = 0\n",
        "        final_score = alpha * similarity[idx][i] + (1 - alpha) * est_rating\n",
        "        food_scores.append((i, final_score))\n",
        "\n",
        "    food_scores = sorted(food_scores, key=lambda x: x[1], reverse=True)\n",
        "    recommended_idx = [i[0] for i in food_scores[:top_n]]\n",
        "    return food_df['Name'].iloc[recommended_idx].tolist()"
      ],
      "metadata": {
        "id": "FuASzkZJzQlC"
      },
      "execution_count": 23,
      "outputs": []
    },
    {
      "cell_type": "markdown",
      "source": [
        "# 8. Contoh Penggunaan Rekomendasi\n",
        "Menunjukkan contoh bagaimana fungsi rekomendasi digunakan untuk menghasilkan makanan rekomendasi berdasarkan input nama makanan dan user ID tertentu.\n"
      ],
      "metadata": {
        "id": "WCvi4OVf1Ndi"
      }
    },
    {
      "cell_type": "code",
      "source": [
        "user_id = 1\n",
        "makanan_input = 'rice'\n",
        "hasil = hybrid_recommendation('User_ID', makanan_input, top_n=5)\n",
        "\n",
        "print(\"Rekomendasi makanan (Hybrid):\")\n",
        "\n",
        "# Check if the result is a list of recommendations or a single string message\n",
        "if isinstance(hasil, list):\n",
        "    print(\"\\n\".join(hasil))\n",
        "else:\n",
        "    print(hasil)"
      ],
      "metadata": {
        "colab": {
          "base_uri": "https://localhost:8080/"
        },
        "id": "eoe2_LNCz3ha",
        "outputId": "63c8922f-e324-4f4d-bea8-d3bcfcab0034"
      },
      "execution_count": 24,
      "outputs": [
        {
          "output_type": "stream",
          "name": "stdout",
          "text": [
            "Rekomendasi makanan (Hybrid):\n",
            "red rice\n",
            "black rice\n",
            "brown rice\n",
            "mushroom rice\n",
            "rice kheer\n"
          ]
        }
      ]
    },
    {
      "cell_type": "markdown",
      "source": [
        "# 9. Evaluasi\n",
        "Fungsi `precision_recall_at_k` digunakan untuk menghitung `Precision@K` & `Recall@K` dari hasil rekomendasi. Metrik ini memberikan evaluasi numerik terhadap seberapa relevan rekomendasi yang diberikan dibanding preferensi pengguna.\n"
      ],
      "metadata": {
        "id": "Nm4sSkmu5z05"
      }
    },
    {
      "cell_type": "code",
      "source": [
        "def precision_recall_at_k(user_id, k=5):\n",
        "    user_rated = ratings_df[ratings_df['User_ID'] == user_id].sort_values(by='Rating', ascending=False)\n",
        "    top_rated_foods = user_rated['Food_ID'].tolist()[:k]\n",
        "\n",
        "    if not top_rated_foods:\n",
        "        return 0.0, 0.0\n",
        "\n",
        "    # Find the name of the top rated food using food_df\n",
        "    top_food_id = top_rated_foods[0]\n",
        "    food_name_row = food_df[food_df['Food_ID'] == top_food_id]['Name']\n",
        "\n",
        "    # Ensure food_name_row is not empty before accessing values\n",
        "    if food_name_row.empty:\n",
        "        return 0.0, 0.0 # Return 0 precision and recall if food name is not found\n",
        "\n",
        "    top_food_name = food_name_row.values[0]\n",
        "\n",
        "    # Pass the correct user_id (which is a number, not a string) and food_name to hybrid_recommendation\n",
        "    recommended = hybrid_recommendation(user_id, top_food_name, top_n=k)\n",
        "\n",
        "    # Mengganti 'df' dengan 'food_df' dan menggunakan nama kolom yang benar\n",
        "    # Ensure recommended is a list before checking\n",
        "    if isinstance(recommended, str): # If hybrid_recommendation returned an error string\n",
        "        print(f\"Warning: {recommended}\")\n",
        "        return 0.0, 0.0\n",
        "\n",
        "    # Get the Food_IDs for the recommended food names\n",
        "    recommended_ids = food_df[food_df['Name'].isin(recommended)]['Food_ID'].tolist()\n",
        "\n",
        "    relevant_items = set(top_rated_foods)\n",
        "    recommended_items = set(recommended_ids)\n",
        "\n",
        "    # Handle cases where relevant_items might be empty\n",
        "    if not relevant_items:\n",
        "        return 1.0, 1.0 if not recommended_items else 0.0\n",
        "\n",
        "    true_positives = relevant_items & recommended_items\n",
        "\n",
        "\n",
        "    precision = len(true_positives) / k if k > 0 else 0.0\n",
        "    recall = len(true_positives) / len(relevant_items) if len(relevant_items) > 0 else 0.0\n",
        "    return precision, recall\n",
        "\n",
        "# Contoh evaluasi untuk user 1\n",
        "precision, recall = precision_recall_at_k(user_id=1, k=4)\n",
        "print(f\"Precision: {precision:.2f}\")\n",
        "print(f\"Recall: {recall:.2f}\")"
      ],
      "metadata": {
        "colab": {
          "base_uri": "https://localhost:8080/"
        },
        "id": "ywyB2HXM8-6a",
        "outputId": "04fc20c5-41f6-490a-ca7f-3d3465edbcd4"
      },
      "execution_count": 26,
      "outputs": [
        {
          "output_type": "stream",
          "name": "stdout",
          "text": [
            "Precision: 0.25\n",
            "Recall: 0.25\n"
          ]
        }
      ]
    }
  ]
}